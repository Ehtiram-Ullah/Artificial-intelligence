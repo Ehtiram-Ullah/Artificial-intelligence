import pandas as pd

data = pd.read_csv("alzheimers_disease_data.csv")
data.shape



data.describe()


data.values



