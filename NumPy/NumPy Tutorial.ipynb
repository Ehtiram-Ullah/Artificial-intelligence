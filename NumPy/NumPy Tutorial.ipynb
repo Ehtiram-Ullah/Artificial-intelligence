{
 "cells": [
  {
   "cell_type": "code",
   "execution_count": 209,
   "id": "b5defe45-46e8-43b3-9dec-317e835ee4c2",
   "metadata": {},
   "outputs": [],
   "source": [
    "import numpy as np"
   ]
  },
  {
   "cell_type": "markdown",
   "id": "6fd07de7-df08-4dac-b5db-b51ffadb5a03",
   "metadata": {
    "jp-MarkdownHeadingCollapsed": true
   },
   "source": [
    "### The Basics"
   ]
  },
  {
   "cell_type": "code",
   "execution_count": 211,
   "id": "cb7a3e59-be4b-4c9b-835a-d507a34c6e9e",
   "metadata": {},
   "outputs": [
    {
     "name": "stdout",
     "output_type": "stream",
     "text": [
      "[1 2 3 4]\n",
      "[[  1.  20.]\n",
      " [ 90. 100.]]\n",
      "[[1 2]\n",
      " [3 4]\n",
      " [5 6]]\n"
     ]
    }
   ],
   "source": [
    "# The Basics\n",
    "x = np.array([1,2,3,4])\n",
    "print(x)\n",
    "\n",
    "a = np.array([[1.0,20.0],[90.0,100.0]])\n",
    "print(a)\n",
    "\n",
    "# Specify Data Type\n",
    "b = np.array([[1,2],[3,4],[5,6]],dtype=\"int16\")\n",
    "print(b)"
   ]
  },
  {
   "cell_type": "code",
   "execution_count": 212,
   "id": "f85a6a99-1e9d-4282-89b5-48aacbb2334e",
   "metadata": {},
   "outputs": [
    {
     "data": {
      "text/plain": [
       "2"
      ]
     },
     "execution_count": 212,
     "metadata": {},
     "output_type": "execute_result"
    }
   ],
   "source": [
    "# Get Dimension\n",
    "a.ndim"
   ]
  },
  {
   "cell_type": "code",
   "execution_count": 213,
   "id": "34c7c7ec-9c80-44c0-8add-6cff8cf04726",
   "metadata": {},
   "outputs": [
    {
     "data": {
      "text/plain": [
       "(2, 2)"
      ]
     },
     "execution_count": 213,
     "metadata": {},
     "output_type": "execute_result"
    }
   ],
   "source": [
    "# Get Shape\n",
    "a.shape"
   ]
  },
  {
   "cell_type": "code",
   "execution_count": 214,
   "id": "7d0f1f16-d079-4ef1-b2ee-e1866cc9bd4d",
   "metadata": {},
   "outputs": [
    {
     "data": {
      "text/plain": [
       "dtype('int16')"
      ]
     },
     "execution_count": 214,
     "metadata": {},
     "output_type": "execute_result"
    }
   ],
   "source": [
    "# Get Type\n",
    "b.dtype"
   ]
  },
  {
   "cell_type": "code",
   "execution_count": 215,
   "id": "14834b61-17c9-4d8e-9bd2-eafe884a2d56",
   "metadata": {},
   "outputs": [
    {
     "data": {
      "text/plain": [
       "2"
      ]
     },
     "execution_count": 215,
     "metadata": {},
     "output_type": "execute_result"
    }
   ],
   "source": [
    "# Get Single Item Size (in bytes)\n",
    "b.itemsize"
   ]
  },
  {
   "cell_type": "code",
   "execution_count": 216,
   "id": "fbe60a62-2e28-4845-9cdd-c83911f1c801",
   "metadata": {},
   "outputs": [
    {
     "data": {
      "text/plain": [
       "6"
      ]
     },
     "execution_count": 216,
     "metadata": {},
     "output_type": "execute_result"
    }
   ],
   "source": [
    "# Get Length\n",
    "b.size"
   ]
  },
  {
   "cell_type": "code",
   "execution_count": 217,
   "id": "2bdc56af-f425-4fbb-af19-0946882a8236",
   "metadata": {},
   "outputs": [
    {
     "data": {
      "text/plain": [
       "12"
      ]
     },
     "execution_count": 217,
     "metadata": {},
     "output_type": "execute_result"
    }
   ],
   "source": [
    "# Get total item size (in bytes)\n",
    "b.nbytes"
   ]
  },
  {
   "cell_type": "markdown",
   "id": "dfe2296a-41e9-4de3-a74f-4c1a33373c05",
   "metadata": {
    "jp-MarkdownHeadingCollapsed": true
   },
   "source": [
    "### Accessing/Changing specific elements, rows, columns, etc"
   ]
  },
  {
   "cell_type": "code",
   "execution_count": 219,
   "id": "fa64cbe2-2b93-4231-a3cf-5b9bda9a02d2",
   "metadata": {},
   "outputs": [
    {
     "name": "stdout",
     "output_type": "stream",
     "text": [
      "3\n"
     ]
    }
   ],
   "source": [
    "\n",
    "\n",
    "# Accessing second row first column of 'b'\n",
    "print(b[1,0])"
   ]
  },
  {
   "cell_type": "code",
   "execution_count": 220,
   "id": "326c5aa5-1e60-4ba2-a545-744dcb445b05",
   "metadata": {},
   "outputs": [
    {
     "data": {
      "text/plain": [
       "array([5, 6], dtype=int16)"
      ]
     },
     "execution_count": 220,
     "metadata": {},
     "output_type": "execute_result"
    }
   ],
   "source": [
    "#Get A Specific Row\n",
    "\n",
    "b[2,:]"
   ]
  },
  {
   "cell_type": "code",
   "execution_count": 221,
   "id": "3fdd7590-b13a-41c7-84cd-757e20e41f50",
   "metadata": {},
   "outputs": [
    {
     "data": {
      "text/plain": [
       "array([2, 4, 6], dtype=int16)"
      ]
     },
     "execution_count": 221,
     "metadata": {},
     "output_type": "execute_result"
    }
   ],
   "source": [
    "#Get A Specific Column\n",
    "\n",
    "b[:,1]"
   ]
  },
  {
   "cell_type": "code",
   "execution_count": 222,
   "id": "54035da0-8d33-4c82-ab7b-cb64781dc438",
   "metadata": {},
   "outputs": [
    {
     "data": {
      "text/plain": [
       "array([2, 3])"
      ]
     },
     "execution_count": 222,
     "metadata": {},
     "output_type": "execute_result"
    }
   ],
   "source": [
    "# Get Range Of Numbers [start index, end index, step size]\n",
    "x[1:3:1]"
   ]
  },
  {
   "cell_type": "code",
   "execution_count": 223,
   "id": "348b89c7-26a0-441f-ab56-38b78af52d60",
   "metadata": {},
   "outputs": [
    {
     "data": {
      "text/plain": [
       "array([[ 1, 10],\n",
       "       [ 3, 10],\n",
       "       [ 5, 10]], dtype=int16)"
      ]
     },
     "execution_count": 223,
     "metadata": {},
     "output_type": "execute_result"
    }
   ],
   "source": [
    "# Replace column\n",
    "\n",
    "b[:,1] = 10\n",
    "b"
   ]
  },
  {
   "cell_type": "code",
   "execution_count": 224,
   "id": "09d27766-febb-481c-add1-aa8c652aaa6c",
   "metadata": {},
   "outputs": [
    {
     "data": {
      "text/plain": [
       "array([[ 20,  20],\n",
       "       [420, 520],\n",
       "       [  5,  10]], dtype=int16)"
      ]
     },
     "execution_count": 224,
     "metadata": {},
     "output_type": "execute_result"
    }
   ],
   "source": [
    "# Replace row\n",
    "\n",
    "b[0,:] = 20\n",
    "b\n",
    "\n",
    "# We can also do this\n",
    "b[1,:] = [420,520]\n",
    "\n",
    "b"
   ]
  },
  {
   "cell_type": "code",
   "execution_count": 225,
   "id": "0ab8f52f-78d7-4d03-b9f5-9c0c787b0c52",
   "metadata": {},
   "outputs": [
    {
     "data": {
      "text/plain": [
       "array([[[ 1,  2,  3],\n",
       "        [ 4,  5,  6]],\n",
       "\n",
       "       [[ 7,  8,  9],\n",
       "        [10, 11, 12]]])"
      ]
     },
     "execution_count": 225,
     "metadata": {},
     "output_type": "execute_result"
    }
   ],
   "source": [
    "# 3D Example\n",
    "\n",
    "c = np.array([[[1,2,3],[4,5,6]],[[7,8,9],[10,11,12]]])\n",
    "c"
   ]
  },
  {
   "cell_type": "code",
   "execution_count": 226,
   "id": "c53415a7-5384-4ffd-8fc3-0f350932d05e",
   "metadata": {},
   "outputs": [
    {
     "data": {
      "text/plain": [
       "array([1, 2, 3])"
      ]
     },
     "execution_count": 226,
     "metadata": {},
     "output_type": "execute_result"
    }
   ],
   "source": [
    "# Acessing first row of the first row \n",
    "c[0,:][0,:]"
   ]
  },
  {
   "cell_type": "code",
   "execution_count": 227,
   "id": "0ba423b4-9c4b-4dfa-9f8a-9f62a282e0b8",
   "metadata": {},
   "outputs": [
    {
     "data": {
      "text/plain": [
       "array([[1, 2, 3],\n",
       "       [7, 8, 9]])"
      ]
     },
     "execution_count": 227,
     "metadata": {},
     "output_type": "execute_result"
    }
   ],
   "source": [
    "c[:,0,:]"
   ]
  },
  {
   "cell_type": "markdown",
   "id": "cd20200c-1644-4827-9bc1-05c059ee90b7",
   "metadata": {
    "jp-MarkdownHeadingCollapsed": true
   },
   "source": [
    "### Initializing Different Types Of Arrays"
   ]
  },
  {
   "cell_type": "code",
   "execution_count": 229,
   "id": "6c9c1a48-905f-4a7c-abdc-0b21a87fc7ca",
   "metadata": {},
   "outputs": [
    {
     "data": {
      "text/plain": [
       "array([[0., 0.],\n",
       "       [0., 0.],\n",
       "       [0., 0.],\n",
       "       [0., 0.],\n",
       "       [0., 0.]])"
      ]
     },
     "execution_count": 229,
     "metadata": {},
     "output_type": "execute_result"
    }
   ],
   "source": [
    "\n",
    "\n",
    "# All 0s Matrix\n",
    "np.zeros((5,2))"
   ]
  },
  {
   "cell_type": "code",
   "execution_count": 230,
   "id": "e370e1ea-ab81-466a-bae3-be722898e215",
   "metadata": {},
   "outputs": [
    {
     "data": {
      "text/plain": [
       "array([[[1, 1],\n",
       "        [1, 1]],\n",
       "\n",
       "       [[1, 1],\n",
       "        [1, 1]],\n",
       "\n",
       "       [[1, 1],\n",
       "        [1, 1]],\n",
       "\n",
       "       [[1, 1],\n",
       "        [1, 1]]])"
      ]
     },
     "execution_count": 230,
     "metadata": {},
     "output_type": "execute_result"
    }
   ],
   "source": [
    "# All 1s Matrix\n",
    "np.ones((4,2,2),dtype=\"int32\")"
   ]
  },
  {
   "cell_type": "code",
   "execution_count": 231,
   "id": "f7c1ffa2-bc84-4edc-9acc-4a598cf980e7",
   "metadata": {},
   "outputs": [
    {
     "data": {
      "text/plain": [
       "array([[99, 99],\n",
       "       [99, 99]], dtype=int8)"
      ]
     },
     "execution_count": 231,
     "metadata": {},
     "output_type": "execute_result"
    }
   ],
   "source": [
    "# Any other number\n",
    "np.full((2,2),99,dtype=\"int8\")"
   ]
  },
  {
   "cell_type": "code",
   "execution_count": 232,
   "id": "d73be9d5-65ab-4bbd-95cf-4c752e8799fa",
   "metadata": {},
   "outputs": [
    {
     "data": {
      "text/plain": [
       "array([[[0.20851569, 0.42572112, 0.08571289],\n",
       "        [0.38305784, 0.86643469, 0.96892915]],\n",
       "\n",
       "       [[0.32588346, 0.40822442, 0.68968121],\n",
       "        [0.41872156, 0.97228874, 0.53816258]],\n",
       "\n",
       "       [[0.16277389, 0.72259841, 0.20989622],\n",
       "        [0.61583551, 0.12714588, 0.62010274]],\n",
       "\n",
       "       [[0.73419299, 0.52927294, 0.8904246 ],\n",
       "        [0.74908197, 0.79981929, 0.95887186]]])"
      ]
     },
     "execution_count": 232,
     "metadata": {},
     "output_type": "execute_result"
    }
   ],
   "source": [
    "\n",
    "# Random Decimal Numbers\n",
    "np.random.rand(4,2,3)"
   ]
  },
  {
   "cell_type": "code",
   "execution_count": 233,
   "id": "b86841ca-910c-43d9-9013-6f41c4a48752",
   "metadata": {},
   "outputs": [
    {
     "data": {
      "text/plain": [
       "array([[62, 11, 27],\n",
       "       [43, 76, 29],\n",
       "       [21, 57,  9]])"
      ]
     },
     "execution_count": 233,
     "metadata": {},
     "output_type": "execute_result"
    }
   ],
   "source": [
    "\n",
    "# Random Integer Values (StartValue,size)\n",
    "\n",
    "np.random.randint(1,100,size = (3,3))"
   ]
  },
  {
   "cell_type": "code",
   "execution_count": 234,
   "id": "2277d417-5445-494b-904f-5df087683886",
   "metadata": {},
   "outputs": [
    {
     "data": {
      "text/plain": [
       "array([[1., 0., 0., 0., 0., 0., 0., 0., 0., 0.],\n",
       "       [0., 1., 0., 0., 0., 0., 0., 0., 0., 0.],\n",
       "       [0., 0., 1., 0., 0., 0., 0., 0., 0., 0.],\n",
       "       [0., 0., 0., 1., 0., 0., 0., 0., 0., 0.],\n",
       "       [0., 0., 0., 0., 1., 0., 0., 0., 0., 0.],\n",
       "       [0., 0., 0., 0., 0., 1., 0., 0., 0., 0.],\n",
       "       [0., 0., 0., 0., 0., 0., 1., 0., 0., 0.],\n",
       "       [0., 0., 0., 0., 0., 0., 0., 1., 0., 0.],\n",
       "       [0., 0., 0., 0., 0., 0., 0., 0., 1., 0.],\n",
       "       [0., 0., 0., 0., 0., 0., 0., 0., 0., 1.]])"
      ]
     },
     "execution_count": 234,
     "metadata": {},
     "output_type": "execute_result"
    }
   ],
   "source": [
    "\n",
    "# The Identity Matrix\n",
    "\n",
    "np.identity(10)"
   ]
  },
  {
   "cell_type": "code",
   "execution_count": 235,
   "id": "d0a3b690-02b3-4365-a6af-0498859eb9d1",
   "metadata": {},
   "outputs": [
    {
     "data": {
      "text/plain": [
       "array([[1, 2, 4],\n",
       "       [1, 2, 4],\n",
       "       [1, 2, 4],\n",
       "       [1, 2, 4],\n",
       "       [1, 2, 4],\n",
       "       [1, 2, 4],\n",
       "       [1, 2, 4],\n",
       "       [1, 2, 4],\n",
       "       [1, 2, 4],\n",
       "       [1, 2, 4]])"
      ]
     },
     "execution_count": 235,
     "metadata": {},
     "output_type": "execute_result"
    }
   ],
   "source": [
    "# Repeat an array (array,repeat time,axis (optional))\n",
    "\n",
    "arr = np.array([[1,2,4]])\n",
    "\n",
    "r1 = np.repeat(arr,10,axis = 0)\n",
    "r1"
   ]
  },
  {
   "cell_type": "markdown",
   "id": "d04a7cf8-89a3-4201-b7a6-6cf98f9aabe9",
   "metadata": {},
   "source": [
    "#### Exercise "
   ]
  },
  {
   "cell_type": "code",
   "execution_count": 237,
   "id": "423fe7ae-6ca9-49b1-ad25-a744725b664c",
   "metadata": {},
   "outputs": [
    {
     "data": {
      "text/plain": [
       "array([[1, 1, 1, 1, 1],\n",
       "       [1, 0, 0, 0, 1],\n",
       "       [1, 0, 9, 0, 1],\n",
       "       [1, 0, 0, 0, 1],\n",
       "       [1, 1, 1, 1, 1]], dtype=int8)"
      ]
     },
     "execution_count": 237,
     "metadata": {},
     "output_type": "execute_result"
    }
   ],
   "source": [
    "\n",
    "\n",
    "output = np.ones((5,5),dtype=\"int8\")\n",
    "output[1,:] = [1,0,0,0,1]\n",
    "output[2,:] = [1,0,9,0,1]\n",
    "output[-2,:] = [1,0,0,0,1]\n",
    "output\n"
   ]
  },
  {
   "cell_type": "markdown",
   "id": "8b4d15e2-5ff3-48ad-abbf-21611c584460",
   "metadata": {
    "jp-MarkdownHeadingCollapsed": true
   },
   "source": [
    "### Be Careful When Copying Arrays!!!"
   ]
  },
  {
   "cell_type": "code",
   "execution_count": 239,
   "id": "840f59b9-be51-41de-b192-99cdcbcda35b",
   "metadata": {},
   "outputs": [
    {
     "name": "stdout",
     "output_type": "stream",
     "text": [
      "[100   2   3]\n",
      "[100   2   3]\n",
      "[200   2   3]\n",
      "[100   2   3]\n"
     ]
    }
   ],
   "source": [
    "a = np.array([1,2,3])\n",
    "b = a\n",
    "b[0]= 100\n",
    "print(b)\n",
    "print(a)\n",
    "\n",
    "#Do this instead\n",
    "c = a.copy()\n",
    "c[0] = 200\n",
    "print(c)\n",
    "print(a)"
   ]
  },
  {
   "cell_type": "markdown",
   "id": "a297d0e1-d94d-4ac4-92c8-b1a773621cc5",
   "metadata": {
    "jp-MarkdownHeadingCollapsed": true
   },
   "source": [
    "### Mathematics"
   ]
  },
  {
   "cell_type": "code",
   "execution_count": 241,
   "id": "175f328a-2b59-4f5e-88be-4241dcf0df99",
   "metadata": {},
   "outputs": [
    {
     "name": "stdout",
     "output_type": "stream",
     "text": [
      "[1 2 3 4 5]\n"
     ]
    }
   ],
   "source": [
    "a = np.array([1,2,3,4,5])\n",
    "print(a)"
   ]
  },
  {
   "cell_type": "code",
   "execution_count": 242,
   "id": "56f0f599-0b16-425e-9136-dae76d671f6f",
   "metadata": {},
   "outputs": [
    {
     "data": {
      "text/plain": [
       "array([3, 4, 5, 6, 7])"
      ]
     },
     "execution_count": 242,
     "metadata": {},
     "output_type": "execute_result"
    }
   ],
   "source": [
    "a+2"
   ]
  },
  {
   "cell_type": "code",
   "execution_count": 243,
   "id": "3770b02c-49a6-4701-8ede-eb9ab2541972",
   "metadata": {},
   "outputs": [
    {
     "data": {
      "text/plain": [
       "array([-1,  0,  1,  2,  3])"
      ]
     },
     "execution_count": 243,
     "metadata": {},
     "output_type": "execute_result"
    }
   ],
   "source": [
    "a -= 2\n",
    "a"
   ]
  },
  {
   "cell_type": "code",
   "execution_count": 244,
   "id": "7e0608ac-f5f6-48ac-b1cc-939b3a8aaa3b",
   "metadata": {},
   "outputs": [
    {
     "data": {
      "text/plain": [
       "array([-5,  0,  5, 10, 15])"
      ]
     },
     "execution_count": 244,
     "metadata": {},
     "output_type": "execute_result"
    }
   ],
   "source": [
    "a*5"
   ]
  },
  {
   "cell_type": "code",
   "execution_count": 245,
   "id": "98c88c78-e767-4dcb-8952-e4f2c0922a9d",
   "metadata": {},
   "outputs": [
    {
     "data": {
      "text/plain": [
       "array([-0.33333333,  0.        ,  0.33333333,  0.66666667,  1.        ])"
      ]
     },
     "execution_count": 245,
     "metadata": {},
     "output_type": "execute_result"
    }
   ],
   "source": [
    "a/3"
   ]
  },
  {
   "cell_type": "code",
   "execution_count": 246,
   "id": "aff195d7-f036-482c-bee2-755eb85ff681",
   "metadata": {},
   "outputs": [
    {
     "data": {
      "text/plain": [
       "array([ 9, 20, 31, 42, 53])"
      ]
     },
     "execution_count": 246,
     "metadata": {},
     "output_type": "execute_result"
    }
   ],
   "source": [
    "# Adding Two Vectors\n",
    "b = [10,20,30,40,50]\n",
    "\n",
    "a+b"
   ]
  },
  {
   "cell_type": "code",
   "execution_count": 247,
   "id": "2a0179bc-04cb-40a9-b754-8b62cfe99626",
   "metadata": {},
   "outputs": [
    {
     "data": {
      "text/plain": [
       "array([ 0.54030231,  1.        ,  0.54030231, -0.41614684, -0.9899925 ])"
      ]
     },
     "execution_count": 247,
     "metadata": {},
     "output_type": "execute_result"
    }
   ],
   "source": [
    "# Take the sin/cos of all values\n",
    "np.sin(b)\n",
    "np.cos(a)"
   ]
  },
  {
   "cell_type": "markdown",
   "id": "a15adc81-392b-4635-b64a-7fc3d346c8f5",
   "metadata": {},
   "source": [
    "#### Linear Algebra"
   ]
  },
  {
   "cell_type": "markdown",
   "id": "559373a0-eb64-4ce1-83e8-f0358120522d",
   "metadata": {},
   "source": [
    "##### Multiplication"
   ]
  },
  {
   "cell_type": "code",
   "execution_count": 250,
   "id": "d0019fe3-73ab-449c-8022-86023e08dfab",
   "metadata": {},
   "outputs": [
    {
     "name": "stdout",
     "output_type": "stream",
     "text": [
      "[[1. 1. 1.]\n",
      " [1. 1. 1.]]\n",
      "[[2 2]\n",
      " [2 2]\n",
      " [2 2]]\n"
     ]
    },
    {
     "data": {
      "text/plain": [
       "array([[6., 6.],\n",
       "       [6., 6.]])"
      ]
     },
     "execution_count": 250,
     "metadata": {},
     "output_type": "execute_result"
    }
   ],
   "source": [
    "a = np.ones((2,3))\n",
    "print(a)\n",
    "\n",
    "b = np.full((3,2),2)\n",
    "print(b)\n",
    "\n",
    "np.matmul(a,b)\n"
   ]
  },
  {
   "cell_type": "markdown",
   "id": "b0e34e1f-7516-47ad-9c02-86fe6ffa3ea2",
   "metadata": {},
   "source": [
    "#### Determinant"
   ]
  },
  {
   "cell_type": "code",
   "execution_count": 252,
   "id": "4ea2164f-cd76-453f-9c4c-bbed0c6d7d42",
   "metadata": {},
   "outputs": [
    {
     "data": {
      "text/plain": [
       "0.0"
      ]
     },
     "execution_count": 252,
     "metadata": {},
     "output_type": "execute_result"
    }
   ],
   "source": [
    "a = np.full((4,4),9)\n",
    "c = np.linalg.det(a)\n",
    "c"
   ]
  },
  {
   "cell_type": "code",
   "execution_count": 253,
   "id": "70c9e736-1101-4669-ad90-6557e5c56d0b",
   "metadata": {},
   "outputs": [],
   "source": [
    "## Reference docs (https://docs.scipy.org/doc/numpy/reference/routines.linalg.html)\n",
    "\n",
    "# Determinant\n",
    "# Trace\n",
    "# Singular Vector Decomposition\n",
    "# Eigenvalues\n",
    "# Matrix Norm\n",
    "# Inverse\n",
    "# Etc..."
   ]
  },
  {
   "cell_type": "markdown",
   "id": "70a0c300-b283-4f7b-aa5c-48138903e267",
   "metadata": {
    "jp-MarkdownHeadingCollapsed": true
   },
   "source": [
    "### Statistics"
   ]
  },
  {
   "cell_type": "code",
   "execution_count": 255,
   "id": "d9df8e82-7738-4f6f-a719-ef307b641ad7",
   "metadata": {},
   "outputs": [
    {
     "data": {
      "text/plain": [
       "array([[1, 2, 3],\n",
       "       [4, 5, 6]])"
      ]
     },
     "execution_count": 255,
     "metadata": {},
     "output_type": "execute_result"
    }
   ],
   "source": [
    "stats = np.array([[1,2,3],[4,5,6]])\n",
    "stats"
   ]
  },
  {
   "cell_type": "code",
   "execution_count": 256,
   "id": "ee467ab8-112a-4913-99ee-44f1c508f889",
   "metadata": {},
   "outputs": [
    {
     "data": {
      "text/plain": [
       "1"
      ]
     },
     "execution_count": 256,
     "metadata": {},
     "output_type": "execute_result"
    }
   ],
   "source": [
    "# Finding the min\n",
    "np.min(stats)"
   ]
  },
  {
   "cell_type": "code",
   "execution_count": 257,
   "id": "930c5cbe-ca0e-47d1-a33d-59be271506cc",
   "metadata": {},
   "outputs": [
    {
     "data": {
      "text/plain": [
       "6"
      ]
     },
     "execution_count": 257,
     "metadata": {},
     "output_type": "execute_result"
    }
   ],
   "source": [
    "# Finding the max\n",
    "np.max(stats)"
   ]
  },
  {
   "cell_type": "code",
   "execution_count": 258,
   "id": "1317ad8b-eb6f-4c17-9d69-b7e360ecccbe",
   "metadata": {},
   "outputs": [
    {
     "data": {
      "text/plain": [
       "21"
      ]
     },
     "execution_count": 258,
     "metadata": {},
     "output_type": "execute_result"
    }
   ],
   "source": [
    "# Summing\n",
    "np.sum(stats)"
   ]
  },
  {
   "cell_type": "markdown",
   "id": "5c596ad0-c000-4a39-bbf9-21b9f767054a",
   "metadata": {
    "jp-MarkdownHeadingCollapsed": true
   },
   "source": [
    "### Reorganizing Arrays"
   ]
  },
  {
   "cell_type": "code",
   "execution_count": 260,
   "id": "8193f3ba-aa0b-4277-b91a-ec5a2f85aa16",
   "metadata": {},
   "outputs": [
    {
     "name": "stdout",
     "output_type": "stream",
     "text": [
      "[[1 2 3 4]\n",
      " [5 6 7 8]]\n",
      "[[[1 2]\n",
      "  [3 4]]\n",
      "\n",
      " [[5 6]\n",
      "  [7 8]]]\n"
     ]
    }
   ],
   "source": [
    "before = np.array([[1,2,3,4],[5,6,7,8]])\n",
    "print(before)\n",
    "\n",
    "after = before.reshape((2,2,2))\n",
    "print(after)"
   ]
  },
  {
   "cell_type": "markdown",
   "id": "b3e55a9d-155d-4ef3-ba07-bf28cf4a1963",
   "metadata": {},
   "source": [
    "#### Vertically Stacking Vectors"
   ]
  },
  {
   "cell_type": "code",
   "execution_count": 305,
   "id": "0a0a40f8-ad5d-47a8-8753-6a98cb094c53",
   "metadata": {},
   "outputs": [
    {
     "data": {
      "text/plain": [
       "array([[1, 2, 3, 4],\n",
       "       [5, 6, 7, 8],\n",
       "       [1, 2, 3, 4]])"
      ]
     },
     "execution_count": 305,
     "metadata": {},
     "output_type": "execute_result"
    }
   ],
   "source": [
    "v1 = np.array([1,2,3,4])\n",
    "v2 = np.array([5,6,7,8])\n",
    "\n",
    "np.vstack([v1,v2,v1])"
   ]
  },
  {
   "cell_type": "markdown",
   "id": "e07a4ee6-5e3a-408d-b3c2-bba615c16392",
   "metadata": {},
   "source": [
    "#### Horizontal Stacking Vectors"
   ]
  },
  {
   "cell_type": "code",
   "execution_count": 310,
   "id": "b988906d-12f0-4a62-942e-bb9bb2141aa6",
   "metadata": {},
   "outputs": [
    {
     "data": {
      "text/plain": [
       "array([1, 2, 3, 4, 5, 6, 7, 8])"
      ]
     },
     "execution_count": 310,
     "metadata": {},
     "output_type": "execute_result"
    }
   ],
   "source": [
    "np.hstack([v1,v2])"
   ]
  },
  {
   "cell_type": "markdown",
   "id": "b1d518b6-f61c-469e-aa1c-d08aeea6cc46",
   "metadata": {
    "jp-MarkdownHeadingCollapsed": true
   },
   "source": [
    "### Miscellaneous"
   ]
  },
  {
   "cell_type": "markdown",
   "id": "40b2ff04-8662-4b5c-a352-4e5f0dae3b94",
   "metadata": {},
   "source": [
    "#### Load Data From File"
   ]
  },
  {
   "cell_type": "code",
   "execution_count": 322,
   "id": "6a578a94-927c-4743-a806-1b09bdfca882",
   "metadata": {},
   "outputs": [
    {
     "data": {
      "text/plain": [
       "array([[  1,  13,  21,  11, 196,  75,   4,   3,  34,   6,   7,   8,   0,\n",
       "          1,   2,   3,   4,   5],\n",
       "       [  3,  42,  12,  33, 766,  75,   4,  55,   6,   4,   3,   4,   5,\n",
       "          6,   7,   0,  11,  12],\n",
       "       [  1,  22,  33,  11, 999,  11,   2,   1,  78,   0,   1,   2,   9,\n",
       "          8,   7,   1,  76,  88]])"
      ]
     },
     "execution_count": 322,
     "metadata": {},
     "output_type": "execute_result"
    }
   ],
   "source": [
    "arr = np.genfromtxt('data.txt',delimiter=\",\")\n",
    "arr = arr.astype(\"int32\")\n",
    "arr"
   ]
  },
  {
   "cell_type": "markdown",
   "id": "ce0d9a3b-7afa-403f-9c8d-9fca2e5ec688",
   "metadata": {},
   "source": [
    "#### Boolean Masking and Advanced Indexing"
   ]
  },
  {
   "cell_type": "code",
   "execution_count": 341,
   "id": "92261f4b-cdfd-44af-b6fb-55604ed8a883",
   "metadata": {},
   "outputs": [
    {
     "data": {
      "text/plain": [
       "array([[ True,  True,  True,  True, False,  True,  True,  True,  True,\n",
       "         True,  True,  True,  True,  True,  True,  True,  True,  True],\n",
       "       [ True,  True,  True,  True, False,  True,  True,  True,  True,\n",
       "         True,  True,  True,  True,  True,  True,  True,  True,  True],\n",
       "       [ True,  True,  True,  True, False,  True,  True,  True,  True,\n",
       "         True,  True,  True,  True,  True,  True,  True,  True,  True]])"
      ]
     },
     "execution_count": 341,
     "metadata": {},
     "output_type": "execute_result"
    }
   ],
   "source": [
    "arr > 100\n",
    "\n",
    "(~((arr>=100) & (arr<1000)))"
   ]
  },
  {
   "cell_type": "code",
   "execution_count": 327,
   "id": "9f532082-63f4-48e6-985a-32a35a653bb9",
   "metadata": {},
   "outputs": [
    {
     "data": {
      "text/plain": [
       "array([196,  75, 766,  75,  55, 999,  78,  76,  88])"
      ]
     },
     "execution_count": 327,
     "metadata": {},
     "output_type": "execute_result"
    }
   ],
   "source": [
    "# Getting values > 50\n",
    "arr[arr>50]"
   ]
  },
  {
   "cell_type": "code",
   "execution_count": 331,
   "id": "e92fe162-2b2e-46c6-890b-b895532a774c",
   "metadata": {},
   "outputs": [
    {
     "data": {
      "text/plain": [
       "array([2, 3, 6])"
      ]
     },
     "execution_count": 331,
     "metadata": {},
     "output_type": "execute_result"
    }
   ],
   "source": [
    "# You can index with a list in NumPy\n",
    "d = np.array([1,2,3,4,5,6])\n",
    "d[[1,2,-1]]"
   ]
  },
  {
   "cell_type": "markdown",
   "id": "79f3dc53-539e-4f33-ae59-5fc4a072a011",
   "metadata": {
    "jp-MarkdownHeadingCollapsed": true
   },
   "source": [
    "### Exercise"
   ]
  },
  {
   "cell_type": "code",
   "execution_count": 344,
   "id": "b7ada9c6-3dbb-4dcc-addf-b0ca43ff28e8",
   "metadata": {},
   "outputs": [
    {
     "data": {
      "text/plain": [
       "array([[ 1,  2,  3,  4,  5],\n",
       "       [ 6,  7,  8,  9, 10],\n",
       "       [11, 12, 13, 14, 15],\n",
       "       [16, 17, 18, 19, 20],\n",
       "       [21, 22, 23, 24, 25],\n",
       "       [26, 27, 28, 29, 30]])"
      ]
     },
     "execution_count": 344,
     "metadata": {},
     "output_type": "execute_result"
    }
   ],
   "source": [
    "arr = np.array([[1,2,3,4,5],[6,7,8,9,10],[11,12,13,14,15],[16,17,18,19,20],[21,22,23,24,25],[26,27,28,29,30]])\n",
    "arr"
   ]
  },
  {
   "cell_type": "code",
   "execution_count": 352,
   "id": "362ac76f-c826-4c24-8fb3-c59750f2196a",
   "metadata": {},
   "outputs": [
    {
     "data": {
      "text/plain": [
       "array([[11, 12],\n",
       "       [16, 17]])"
      ]
     },
     "execution_count": 352,
     "metadata": {},
     "output_type": "execute_result"
    }
   ],
   "source": [
    "arr[2:4,0:2]"
   ]
  },
  {
   "cell_type": "code",
   "execution_count": 357,
   "id": "5aec20d8-7e49-4b06-a8fd-db01e9aa281f",
   "metadata": {},
   "outputs": [
    {
     "data": {
      "text/plain": [
       "array([[ 4,  5],\n",
       "       [24, 25],\n",
       "       [29, 30]])"
      ]
     },
     "execution_count": 357,
     "metadata": {},
     "output_type": "execute_result"
    }
   ],
   "source": [
    "arr[[0,4,5],3:]"
   ]
  },
  {
   "cell_type": "code",
   "execution_count": null,
   "id": "64a31950-305b-4c56-b11d-0c2e42a5f2a1",
   "metadata": {},
   "outputs": [],
   "source": []
  },
  {
   "cell_type": "code",
   "execution_count": null,
   "id": "e4e028bc-7ef7-4250-97b8-4f1dfa5d564f",
   "metadata": {},
   "outputs": [],
   "source": []
  }
 ],
 "metadata": {
  "kernelspec": {
   "display_name": "Python 3 (ipykernel)",
   "language": "python",
   "name": "python3"
  },
  "language_info": {
   "codemirror_mode": {
    "name": "ipython",
    "version": 3
   },
   "file_extension": ".py",
   "mimetype": "text/x-python",
   "name": "python",
   "nbconvert_exporter": "python",
   "pygments_lexer": "ipython3",
   "version": "3.12.7"
  }
 },
 "nbformat": 4,
 "nbformat_minor": 5
}
