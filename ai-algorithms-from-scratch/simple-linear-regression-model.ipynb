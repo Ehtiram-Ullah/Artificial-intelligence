{
 "cells": [
  {
   "cell_type": "code",
   "execution_count": 6,
   "id": "3f997fc3-b114-4d0e-8d39-02ca8228aaf0",
   "metadata": {},
   "outputs": [
    {
     "name": "stdout",
     "output_type": "stream",
     "text": [
      "Iteration 0: Cost 5.8208\n",
      "Iteration 100: Cost 0.2094\n",
      "Iteration 200: Cost 0.1762\n",
      "Iteration 300: Cost 0.1526\n",
      "Iteration 400: Cost 0.1357\n",
      "Iteration 500: Cost 0.1237\n",
      "Iteration 600: Cost 0.1152\n",
      "Iteration 700: Cost 0.1091\n",
      "Iteration 800: Cost 0.1047\n",
      "Iteration 900: Cost 0.1016\n",
      "Trained weight: 0.7582\n",
      "Trained bias: 1.3839\n",
      "Predictions: [5.93290301 6.69107231 7.44924161]\n"
     ]
    }
   ],
   "source": [
    "import numpy as np\n",
    "\n",
    "# Generate or load data\n",
    "X = np.array([1, 2, 3, 4, 5])  # Example input features\n",
    "y = np.array([2.2, 2.8, 4.5, 3.9, 5.1])  # Example target variable\n",
    "\n",
    "# Initialize parameters\n",
    "w = 0.0  # initial weight\n",
    "b = 0.0  # initial bias\n",
    "learning_rate = 0.01\n",
    "num_iterations = 1000\n",
    "\n",
    "# Function to calculate mean squared error\n",
    "def compute_cost(X, y, w, b):\n",
    "    m = len(X)\n",
    "    total_cost = np.sum((X * w + b - y) ** 2) / (2 * m)\n",
    "    return total_cost\n",
    "\n",
    "# Gradient descent function\n",
    "def gradient_descent(X, y, w, b, learning_rate, num_iterations):\n",
    "    m = len(X)\n",
    "    for i in range(num_iterations):\n",
    "        # Calculate predictions\n",
    "        y_pred = X * w + b\n",
    "        \n",
    "        # Calculate gradients\n",
    "        dw = np.sum((y_pred - y) * X) / m\n",
    "        db = np.sum(y_pred - y) / m\n",
    "        \n",
    "        # Update parameters\n",
    "        w -= learning_rate * dw\n",
    "        b -= learning_rate * db\n",
    "        \n",
    "        # Print cost every 100 iterations for tracking\n",
    "        if i % 100 == 0:\n",
    "            cost = compute_cost(X, y, w, b)\n",
    "            print(f\"Iteration {i}: Cost {cost:.4f}\")\n",
    "    \n",
    "    return w, b\n",
    "\n",
    "# Train the model\n",
    "w, b = gradient_descent(X, y, w, b, learning_rate, num_iterations)\n",
    "\n",
    "# Print the learned parameters\n",
    "print(f\"Trained weight: {w:.4f}\")\n",
    "print(f\"Trained bias: {b:.4f}\")\n",
    "\n",
    "# Function to make predictions\n",
    "def predict(X, w, b):\n",
    "    return X * w + b\n",
    "\n",
    "# Make predictions on new data\n",
    "new_X = np.array([6, 7, 8])\n",
    "predictions = predict(new_X, w, b)\n",
    "print(\"Predictions:\", predictions)\n"
   ]
  },
  {
   "cell_type": "code",
   "execution_count": null,
   "id": "a9d15741-0498-474d-a107-bbb9237bf907",
   "metadata": {},
   "outputs": [],
   "source": []
  }
 ],
 "metadata": {
  "kernelspec": {
   "display_name": "Python 3 (ipykernel)",
   "language": "python",
   "name": "python3"
  },
  "language_info": {
   "codemirror_mode": {
    "name": "ipython",
    "version": 3
   },
   "file_extension": ".py",
   "mimetype": "text/x-python",
   "name": "python",
   "nbconvert_exporter": "python",
   "pygments_lexer": "ipython3",
   "version": "3.12.7"
  }
 },
 "nbformat": 4,
 "nbformat_minor": 5
}
