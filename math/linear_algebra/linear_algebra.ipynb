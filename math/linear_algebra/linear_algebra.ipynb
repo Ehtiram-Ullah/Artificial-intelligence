{
 "cells": [
  {
   "cell_type": "code",
   "execution_count": 1,
   "id": "b2154116-e310-4b06-894c-d046f3f682a8",
   "metadata": {},
   "outputs": [],
   "source": [
    "import numpy as np"
   ]
  },
  {
   "cell_type": "code",
   "execution_count": null,
   "id": "362fb2bb-f904-4f4d-a3d4-b93461953399",
   "metadata": {},
   "outputs": [],
   "source": [
    "# Scalars and Vectors \n",
    "\n",
    "scalar = 420 #Scalar is just a single value\n"
   ]
  },
  {
   "cell_type": "code",
   "execution_count": 16,
   "id": "5e82003e-d967-4dc7-bde6-6d929a295bc3",
   "metadata": {},
   "outputs": [
    {
     "data": {
      "text/plain": [
       "array([5, 7, 9])"
      ]
     },
     "execution_count": 16,
     "metadata": {},
     "output_type": "execute_result"
    }
   ],
   "source": [
    "\n",
    "\n",
    "vector = [1,2,3] #vector is just a 1D array\n",
    "\n",
    "# adding vectors \n",
    "\n",
    "v1 = np.array([1,2,3])\n",
    "\n",
    "v2 = np.array([4,5,6])\n",
    "\n",
    "result = v1+v2\n",
    "\n",
    "result # [5, 7, 9]\n",
    "\n"
   ]
  },
  {
   "cell_type": "code",
   "execution_count": 17,
   "id": "0d38a2c1-f9f1-4fc8-9750-670dab3fab08",
   "metadata": {},
   "outputs": [
    {
     "data": {
      "text/plain": [
       "array([-3, -3, -3])"
      ]
     },
     "execution_count": 17,
     "metadata": {},
     "output_type": "execute_result"
    }
   ],
   "source": [
    "\n",
    "\n",
    "# Subtract the vectors\n",
    "\n",
    "result2 = v1-v2\n",
    "\n",
    "result2 # [-3,-3,-3]\n"
   ]
  },
  {
   "cell_type": "code",
   "execution_count": 18,
   "id": "c13d27b5-c919-4742-9a13-7f38e6989b7b",
   "metadata": {},
   "outputs": [
    {
     "data": {
      "text/plain": [
       "32"
      ]
     },
     "execution_count": 18,
     "metadata": {},
     "output_type": "execute_result"
    }
   ],
   "source": [
    "\n",
    "\n",
    "# Dot product of two vectors\n",
    "\n",
    "dot_product = np.dot(v1,v2)\n",
    "\n",
    "dot_product # Represents the alignment or similarity in direction between two vectors in a high-dimensional space.\n"
   ]
  },
  {
   "cell_type": "code",
   "execution_count": 19,
   "id": "751036cc-4ac7-4b13-bcdc-a369edde9429",
   "metadata": {},
   "outputs": [
    {
     "data": {
      "text/plain": [
       "0.9746318461970762"
      ]
     },
     "execution_count": 19,
     "metadata": {},
     "output_type": "execute_result"
    }
   ],
   "source": [
    "#Cosine similarity\n",
    "\n",
    "magnitude_v1 = np.linalg.norm(v1)\n",
    "\n",
    "magnitude_v2 = np.linalg.norm(v2)\n",
    "\n",
    "# Calculate the cosine similarity\n",
    "cosine_similarity = dot_product / (magnitude_v1 * magnitude_v2)\n",
    "\n",
    "cosine_similarity"
   ]
  },
  {
   "cell_type": "code",
   "execution_count": 20,
   "id": "94419d8b-2032-4df6-9ad5-adcbdf3c49f5",
   "metadata": {},
   "outputs": [
    {
     "data": {
      "text/plain": [
       "array([-3,  6, -3])"
      ]
     },
     "execution_count": 20,
     "metadata": {},
     "output_type": "execute_result"
    }
   ],
   "source": [
    "\n",
    "# Cross product of two vectors\n",
    "cross_product = np.cross(v1, v2)\n",
    "cross_product"
   ]
  },
  {
   "cell_type": "code",
   "execution_count": null,
   "id": "d3327996-3d65-4b9b-9cb9-8c2136254905",
   "metadata": {},
   "outputs": [],
   "source": [
    "\n"
   ]
  }
 ],
 "metadata": {
  "kernelspec": {
   "display_name": "Python 3 (ipykernel)",
   "language": "python",
   "name": "python3"
  },
  "language_info": {
   "codemirror_mode": {
    "name": "ipython",
    "version": 3
   },
   "file_extension": ".py",
   "mimetype": "text/x-python",
   "name": "python",
   "nbconvert_exporter": "python",
   "pygments_lexer": "ipython3",
   "version": "3.12.7"
  }
 },
 "nbformat": 4,
 "nbformat_minor": 5
}
