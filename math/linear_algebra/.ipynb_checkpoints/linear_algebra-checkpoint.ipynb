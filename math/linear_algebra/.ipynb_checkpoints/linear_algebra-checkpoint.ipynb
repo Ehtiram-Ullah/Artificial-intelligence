{
 "cells": [
  {
   "cell_type": "code",
   "execution_count": 1,
   "id": "b2154116-e310-4b06-894c-d046f3f682a8",
   "metadata": {},
   "outputs": [
    {
     "data": {
      "text/plain": [
       "32"
      ]
     },
     "execution_count": 1,
     "metadata": {},
     "output_type": "execute_result"
    }
   ],
   "source": [
    "import numpy as np\n",
    "\n",
    "# Scalars and Vectors \n",
    "\n",
    "scalar = 420 #Scalar is just a single value\n",
    "\n",
    "\n",
    "\n",
    "vector = [1,2,3] #vector is just a 1D array\n",
    "\n",
    "# adding vectors \n",
    "\n",
    "v1 = np.array([1,2,3])\n",
    "\n",
    "v2 = np.array([4,5,6])\n",
    "\n",
    "result = v1+v2\n",
    "\n",
    "result # [5, 7, 9]\n",
    "\n",
    "# Subtract the vectors\n",
    "\n",
    "result2 = v1-v2\n",
    "\n",
    "result2 # [-3,-3,-3]\n",
    "\n",
    "\n",
    "# Dot product of two vectors\n",
    "\n",
    "dot_product = np.dot(v1,v2)\n",
    "\n",
    "dot_product # Represents the alignment or similarity in direction between two vectors in a high-dimensional space.\n",
    "\n"
   ]
  },
  {
   "cell_type": "code",
   "execution_count": null,
   "id": "362fb2bb-f904-4f4d-a3d4-b93461953399",
   "metadata": {},
   "outputs": [],
   "source": []
  }
 ],
 "metadata": {
  "kernelspec": {
   "display_name": "Python 3 (ipykernel)",
   "language": "python",
   "name": "python3"
  },
  "language_info": {
   "codemirror_mode": {
    "name": "ipython",
    "version": 3
   },
   "file_extension": ".py",
   "mimetype": "text/x-python",
   "name": "python",
   "nbconvert_exporter": "python",
   "pygments_lexer": "ipython3",
   "version": "3.12.7"
  }
 },
 "nbformat": 4,
 "nbformat_minor": 5
}
